{
 "cells": [
  {
   "cell_type": "markdown",
   "metadata": {},
   "source": [
    "# Analyze all the observed data for B2 site\n",
    " ---\n",
    "**Description:** this script will analyze all the observed data (meteo+other parameters) for the meteorological station B2 located in Val Mazia (Italy)\n",
    "\n",
    "**Author:** Elisa Bortoli (elisa.bortoli@eurac.edu)\n",
    "\n",
    "**Credits:** Giacomo Bertoldi (giacomo.bertoldi@eurac.edu)\n",
    "\n",
    "**Date:** 2019-07-25\n",
    "\n",
    "**Version:** 1.0\n",
    "\n",
    "**Usage:** simple run\n",
    "\n",
    "**Python version:** 3.6.8\n",
    "\n",
    "**Requirements:** Python modules: os, glob, sys, pandas, numpy, matplotlib\n",
    "\n",
    " **Notes:** \n",
    "- The test setup can be found at:\n",
    "https://github.com/geotopmodel/geotop/tree/v3.0/tests/1D/Matsch_B2_Ref_007\n",
    "\n",
    "\n",
    "- The given input meteo can be found at: \n",
    "https://raw.githubusercontent.com/geotopmodel/geotop/master/tests/1D/Matsch_B2_Ref_007/meteo0001.txt\n",
    "\n",
    "\n",
    "- The other measured parameters can be found at:\n",
    "https://github.com/EURAC-Ecohydro/MonaLisa/tree/master/geotop/1D/Matsch_B2_Optim_001/obs\n"
   ]
  },
  {
   "cell_type": "markdown",
   "metadata": {},
   "source": [
    "## Import the necessary modules"
   ]
  },
  {
   "cell_type": "code",
   "execution_count": 1,
   "metadata": {
    "collapsed": true
   },
   "outputs": [],
   "source": [
    "import os \n",
    "import glob \n",
    "import sys\n",
    "import pandas as pd\n",
    "import numpy as np\n",
    "from pandas.plotting import register_matplotlib_converters\n",
    "register_matplotlib_converters()\n",
    "import matplotlib.pyplot as plt\n",
    "import datetime as datetime"
   ]
  },
  {
   "cell_type": "code",
   "execution_count": 2,
   "metadata": {},
   "outputs": [
    {
     "data": {
      "application/javascript": [
       "IPython.OutputArea.auto_scroll_threshold = 9999;\n",
       "// avoid output into scrollable frames"
      ],
      "text/plain": [
       "<IPython.core.display.Javascript object>"
      ]
     },
     "metadata": {},
     "output_type": "display_data"
    }
   ],
   "source": [
    "%%javascript\n",
    "IPython.OutputArea.auto_scroll_threshold = 9999;\n",
    "// avoid output into scrollable frames"
   ]
  },
  {
   "cell_type": "markdown",
   "metadata": {},
   "source": [
    "## Set working paths of the simulation"
   ]
  },
  {
   "cell_type": "code",
   "execution_count": 3,
   "metadata": {
    "collapsed": true
   },
   "outputs": [],
   "source": [
    "B2_path = r\"/home/elisa/paper_GEOtop/tests/Matsch_B2_Ref_007\"\n",
    "\n",
    "# Simulations\n",
    "sim_data = B2_path + r\"/data_simulated\"\n",
    "sim_path = sim_data + r\"/sim_2\"\n",
    "\n",
    "# Observations\n",
    "obs_data = B2_path + r\"/data_observed\"\n",
    "obs_path = obs_data + r\"/obs-bottazzi\""
   ]
  },
  {
   "cell_type": "markdown",
   "metadata": {},
   "source": [
    "## Meteo data\n"
   ]
  },
  {
   "cell_type": "markdown",
   "metadata": {},
   "source": [
    "### Given input (the same used by Bottazzi)"
   ]
  },
  {
   "cell_type": "code",
   "execution_count": 4,
   "metadata": {},
   "outputs": [
    {
     "data": {
      "text/plain": [
       "['JDfrom0',\n",
       " 'Iprec',\n",
       " 'WindSp',\n",
       " 'WindDir',\n",
       " 'RelHum',\n",
       " 'AirT',\n",
       " 'SWglobal',\n",
       " 'CloudTrans']"
      ]
     },
     "execution_count": 4,
     "metadata": {},
     "output_type": "execute_result"
    }
   ],
   "source": [
    "# Read in list of files\n",
    "meteo_path = sim_path + r\"/meteo/\"\n",
    "\n",
    "# Select only point0*.txt files\n",
    "os.chdir(meteo_path)\n",
    "unsorted_meteo_files = glob.glob(\"meteo*.txt\")\n",
    "\n",
    "# Sort in alphabetical order files\n",
    "meteo_files = sorted(unsorted_meteo_files, key=str.lower)\n",
    "\n",
    "# Imports files into pandas dataframe\n",
    "meteo_data = []\n",
    "for j,trace in enumerate(meteo_files):\n",
    "    filepath = os.path.join(meteo_path, trace)\n",
    "    traces_series = pd.read_csv(filepath,\n",
    "                                parse_dates = ['Date'], # Date format is correct\n",
    "                                index_col = ['Date'], # No more element indexes\n",
    "                                dayfirst = True, # Coherent date format\n",
    "                                na_values=['-9999']) # NaN \n",
    "    meteo_data.append(traces_series)\n",
    "list(traces_series)"
   ]
  },
  {
   "cell_type": "code",
   "execution_count": 5,
   "metadata": {},
   "outputs": [
    {
     "name": "stdout",
     "output_type": "stream",
     "text": [
      "Practice\n",
      "start =  2009-10-02 00:00:00\n",
      "end   =  2015-12-31 23:00:00\n",
      "len(period_data) =  54768\n",
      " ------------------------------------------- \n",
      "Theory\n",
      "start =  2009-10-02 00:00:00\n",
      "end   =  2015-12-31 23:00:00\n",
      "len(period_data) =  54768\n",
      " ------------------------------------------- \n",
      "Missing data =  0\n"
     ]
    }
   ],
   "source": [
    "# Effective start and end\n",
    "print(\"Practice\")\n",
    "print(\"start = \", traces_series.index.min())\n",
    "print(\"end   = \", traces_series.index.max())\n",
    "print(\"len(period_data) = \", len(traces_series))\n",
    "print(\" ------------------------------------------- \")\n",
    "print(\"Theory\")\n",
    "start = datetime.datetime(2009,10,2,0,0)\n",
    "end  = datetime.datetime(2015,12,31,23,0)\n",
    "period_theory = pd.date_range(start, end, freq='H')\n",
    "print(\"start = \", start)\n",
    "print(\"end   = \", end)\n",
    "print(\"len(period_data) = \", len(period_theory))\n",
    "print(\" ------------------------------------------- \")\n",
    "print(\"Missing data = \", len(period_theory)-len(traces_series))"
   ]
  },
  {
   "cell_type": "markdown",
   "metadata": {},
   "source": [
    "## Output data\n",
    "### Obs\n"
   ]
  },
  {
   "cell_type": "code",
   "execution_count": 6,
   "metadata": {},
   "outputs": [],
   "source": [
    "# Read in list of files\n",
    "obs_path_B = obs_data + r\"/obs-bottazzi-tagliato/\"\n",
    "\n",
    "# Select only obs*.txt files\n",
    "os.chdir(obs_path_B)\n",
    "unsorted_obs_files = glob.glob(\"obs*.txt\")\n",
    "\n",
    "# Sort in alphabetical order files\n",
    "obs_files = sorted(unsorted_obs_files, key=str.lower)\n",
    "\n",
    "# Imports files into pandas dataframe\n",
    "observed_data = []\n",
    "for j,trace in enumerate(obs_files):\n",
    "    filepath = os.path.join(obs_path_B, trace)\n",
    "    traces_series = pd.read_csv(filepath,\n",
    "                                parse_dates = ['Date12.DDMMYYYYhhmm.'], # Date format is correct\n",
    "                                index_col = ['Date12.DDMMYYYYhhmm.'], # No more element indexes\n",
    "                                dayfirst = True, # Coherent date format\n",
    "                                na_values=['-9999']) # NaN \n",
    "    observed_data.append(traces_series)"
   ]
  },
  {
   "cell_type": "code",
   "execution_count": 7,
   "metadata": {},
   "outputs": [
    {
     "data": {
      "text/plain": [
       "['rainfall_amount',\n",
       " 'wind_speed',\n",
       " 'wind_from_direction',\n",
       " 'relative_humidity',\n",
       " 'air_temperature',\n",
       " 'surface_downwelling_shortwave_flux',\n",
       " 'soil_moisture_content_50',\n",
       " 'soil_moisture_content_200',\n",
       " 'latent_heat_flux_in_air',\n",
       " 'sensible_heat_flux_in_air']"
      ]
     },
     "execution_count": 7,
     "metadata": {},
     "output_type": "execute_result"
    }
   ],
   "source": [
    "# View all the columns headers\n",
    "list(traces_series)"
   ]
  },
  {
   "cell_type": "code",
   "execution_count": 8,
   "metadata": {},
   "outputs": [
    {
     "name": "stdout",
     "output_type": "stream",
     "text": [
      "Practice\n",
      "start =  2009-10-02 01:00:00\n",
      "end   =  2015-12-31 23:00:00\n",
      "len(period_data) =  54761\n",
      " ------------------------------------------- \n",
      "Theory\n",
      "start =  2009-10-02 01:00:00\n",
      "end   =  2015-12-31 23:00:00\n",
      "len(period_data) =  54767\n",
      " ------------------------------------------- \n",
      "Missing data =  6\n",
      "DatetimeIndex(['2010-03-28 02:00:00', '2011-03-27 02:00:00',\n",
      "               '2012-03-25 02:00:00', '2013-03-31 02:00:00',\n",
      "               '2014-03-30 02:00:00', '2015-03-29 02:00:00'],\n",
      "              dtype='datetime64[ns]', freq=None)\n"
     ]
    }
   ],
   "source": [
    "# Effective start and end\n",
    "print(\"Practice\")\n",
    "print(\"start = \", traces_series.index.min())\n",
    "print(\"end   = \", traces_series.index.max())\n",
    "print(\"len(period_data) = \", len(traces_series))\n",
    "print(\" ------------------------------------------- \")\n",
    "print(\"Theory\")\n",
    "start = datetime.datetime(2009,10,2,1,0)\n",
    "end  = datetime.datetime(2015,12,31,23,0)\n",
    "period_theory = pd.date_range(start, end, freq='H')\n",
    "print(\"start = \", start)\n",
    "print(\"end   = \", end)\n",
    "print(\"len(period_data) = \", len(period_theory))\n",
    "print(\" ------------------------------------------- \")\n",
    "print(\"Missing data = \", len(period_theory)-len(traces_series))\n",
    "gaps = period_theory[~period_theory.isin(traces_series.index)]\n",
    "print(gaps)"
   ]
  }
 ],
 "metadata": {
  "kernelspec": {
   "display_name": "Python 3",
   "language": "python",
   "name": "python3"
  },
  "language_info": {
   "codemirror_mode": {
    "name": "ipython",
    "version": 3
   },
   "file_extension": ".py",
   "mimetype": "text/x-python",
   "name": "python",
   "nbconvert_exporter": "python",
   "pygments_lexer": "ipython3",
   "version": "3.6.8"
  }
 },
 "nbformat": 4,
 "nbformat_minor": 2
}
